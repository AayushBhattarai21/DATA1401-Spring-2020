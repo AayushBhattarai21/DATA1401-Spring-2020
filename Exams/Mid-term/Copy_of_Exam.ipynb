{
  "nbformat": 4,
  "nbformat_minor": 0,
  "metadata": {
    "kernelspec": {
      "display_name": "Python 3",
      "language": "python",
      "name": "python3"
    },
    "language_info": {
      "codemirror_mode": {
        "name": "ipython",
        "version": 3
      },
      "file_extension": ".py",
      "mimetype": "text/x-python",
      "name": "python",
      "nbconvert_exporter": "python",
      "pygments_lexer": "ipython3",
      "version": "3.8.1"
    },
    "colab": {
      "name": "Copy of Exam.ipynb",
      "provenance": []
    }
  },
  "cells": [
    {
      "cell_type": "markdown",
      "metadata": {
        "id": "6k7RAvpOYlf_",
        "colab_type": "text"
      },
      "source": [
        "# Mid-term Exam\n",
        "\n",
        "[![Open In Colab](https://colab.research.google.com/assets/colab-badge.svg)](https://colab.research.google.com/github//afarbin/DATA1401-Spring-2020/blob/master/Exams/Mid-term/Exam.ipynb)\n",
        "\n",
        "Add cells to this notebook as you need for your solutions and your test of your solutions."
      ]
    },
    {
      "cell_type": "markdown",
      "metadata": {
        "id": "0VPI7SLsYlgB",
        "colab_type": "text"
      },
      "source": [
        "1. Write a function `first_alphabetically(lst)` that takes a list `lst` of strings and returns the string that is alphabetically first. For example, calling your function with the list of states:"
      ]
    },
    {
      "cell_type": "code",
      "metadata": {
        "id": "RbpEfI3gYlgC",
        "colab_type": "code",
        "colab": {}
      },
      "source": [
        "states=['Mississippi', 'Maryland', 'Delaware', 'Connecticut', 'Virginia', 'Utah', 'Kansas',\n",
        "        'Wyoming', 'Indiana', 'Louisiana', 'Missouri', 'Illinois', 'Minnesota', 'Vermont', \n",
        "        'New Mexico', 'North Dakota', 'Wisconsin', 'Tennessee', 'New York', 'Oklahoma', \n",
        "        'Colorado', 'Pennsylvania', 'West Virginia', 'Alabama', 'Montana', 'Texas', \n",
        "        'Washington', 'Michigan', 'New Hampshire', 'Arkansas', 'Hawaii', 'Iowa', \n",
        "        'Idaho', 'Kentucky', 'Ohio', 'Nebraska', 'Alaska', 'Oregon', 'South Dakota', \n",
        "        'New Jersey', 'Florida', 'Georgia', 'Rhode Island', 'Arizona', 'Maine', \n",
        "        'South Carolina', 'California', 'Nevada', 'Massachusetts', 'North Carolina']\n",
        "\n"
      ],
      "execution_count": 0,
      "outputs": []
    },
    {
      "cell_type": "code",
      "metadata": {
        "id": "YJjCRJc9ZlB8",
        "colab_type": "code",
        "colab": {}
      },
      "source": [
        "def first_alphabetical(lst):\n",
        "    new_list = [i.upper() for i in lst]\n",
        "    length = len(new_list) - 1\n",
        "    flag = 1\n",
        "\n",
        "    while flag:\n",
        "        flag = 0             \n",
        "        for items in range(0, length):\n",
        "            if new_list[items] > new_list[items + 1]:\n",
        "                record = new_list[items + 1]\n",
        "                new_list[items + 1] = new_list[items]\n",
        "                new_list[items] = record\n",
        "                flag = 1\n",
        "                result = new_list[0]\n",
        "                final = result[0] + result[1:].lower()\n",
        "    return final \n",
        "\n",
        "    "
      ],
      "execution_count": 0,
      "outputs": []
    },
    {
      "cell_type": "code",
      "metadata": {
        "id": "a6Uq5zL9kjBc",
        "colab_type": "code",
        "outputId": "bf6e8052-3429-4728-f080-9fd7022f3c70",
        "colab": {
          "base_uri": "https://localhost:8080/",
          "height": 35
        }
      },
      "source": [
        "first_alphabetical(states)"
      ],
      "execution_count": 3,
      "outputs": [
        {
          "output_type": "execute_result",
          "data": {
            "text/plain": [
              "'Alabama'"
            ]
          },
          "metadata": {
            "tags": []
          },
          "execution_count": 3
        }
      ]
    },
    {
      "cell_type": "markdown",
      "metadata": {
        "id": "ywibSsSlYlgH",
        "colab_type": "text"
      },
      "source": [
        "should return the string `\"Alabama\"`. Note that you can compare strings:"
      ]
    },
    {
      "cell_type": "code",
      "metadata": {
        "id": "6Xryxm7NYlgI",
        "colab_type": "code",
        "outputId": "1e253bcb-068b-4f93-ffd6-52eea2258f57",
        "colab": {
          "base_uri": "https://localhost:8080/",
          "height": 87
        }
      },
      "source": [
        "print(\"A\">\"B\")\n",
        "print(\"B\">\"A\")\n",
        "print(\"A\">\"a\")\n",
        "print(\"bca\">\"bbc\")"
      ],
      "execution_count": 0,
      "outputs": [
        {
          "output_type": "stream",
          "text": [
            "False\n",
            "True\n",
            "False\n",
            "True\n"
          ],
          "name": "stdout"
        }
      ]
    },
    {
      "cell_type": "markdown",
      "metadata": {
        "id": "t0Y_rzA0YlgM",
        "colab_type": "text"
      },
      "source": [
        "Make sure your implementation isn't case sensitive. Do not use python's built-in `min`, `max`, `sort` or any other sort function you find."
      ]
    },
    {
      "cell_type": "markdown",
      "metadata": {
        "id": "t51yvoRAYlgN",
        "colab_type": "text"
      },
      "source": [
        "2. Write a function `arg_first_alphabetically(lst)`, which does the same thing as in exercise 1 but returns the index of the first string alphabetically."
      ]
    },
    {
      "cell_type": "code",
      "metadata": {
        "id": "0E5Bjev2xsno",
        "colab_type": "code",
        "colab": {}
      },
      "source": [
        "def arg_first_alphabetically(lst):\n",
        "    new_list = [i.upper() for i in lst]\n",
        "    length = len(new_list) - 1\n",
        "    flag = 1\n",
        "\n",
        "    while flag:\n",
        "        flag = 0             \n",
        "        for items in range(0, length):\n",
        "            if new_list[items] > new_list[items + 1]:\n",
        "                record = new_list[items + 1]\n",
        "                new_list[items + 1] = new_list[items]\n",
        "                new_list[items] = record\n",
        "                flag = 1\n",
        "                result = new_list[0]\n",
        "                final = result[0] + result[1:].lower()\n",
        "\n",
        "  \n",
        "    \n",
        "    for items in range(0, length):\n",
        "      if final == lst[items]:\n",
        "       \n",
        "        return items\n",
        "\n",
        "  \n",
        "  "
      ],
      "execution_count": 0,
      "outputs": []
    },
    {
      "cell_type": "code",
      "metadata": {
        "colab_type": "code",
        "id": "RSY1bse1XABV",
        "outputId": "7a1b1725-d8f4-4bf1-e592-b5fdaf4f55f1",
        "colab": {
          "base_uri": "https://localhost:8080/",
          "height": 35
        }
      },
      "source": [
        "arg_first_alphabetically(states)"
      ],
      "execution_count": 5,
      "outputs": [
        {
          "output_type": "execute_result",
          "data": {
            "text/plain": [
              "23"
            ]
          },
          "metadata": {
            "tags": []
          },
          "execution_count": 5
        }
      ]
    },
    {
      "cell_type": "markdown",
      "metadata": {
        "id": "gly2fivCYlgO",
        "colab_type": "text"
      },
      "source": [
        "3. Use your result in question 2 to implement a function `arg_sort_alphabetically(lst)` that returns a list that is alphabetically sorted. Sorting can be accomplished by successively applying the function in question 1 and removing the first element alphabetically. You can remove an element from a list using `pop()`. Make sure your implementation isn't case sensitive. Do not use python's built-in `min`, `max`, `sort` or any other sort function you find."
      ]
    },
    {
      "cell_type": "code",
      "metadata": {
        "id": "x5xFO6AkZwZJ",
        "colab_type": "code",
        "colab": {}
      },
      "source": [
        "def arg_sort_alphabetically(lst):\n",
        "  new_list = [i.upper() for i in lst]\n",
        "  length = len(new_list) - 1\n",
        "  flag = 1\n",
        "\n",
        "  while flag:\n",
        "      flag = 0             \n",
        "      for items in range(0, length):\n",
        "          if new_list[items] > new_list[items + 1]:\n",
        "              record = new_list[items + 1]\n",
        "              new_list[items + 1] = new_list[items]\n",
        "              new_list[items] = record\n",
        "              flag = 1\n",
        "          result = new_list[0]\n",
        "              \n",
        "          final = result[0] + result[1:].lower()\n",
        "\n",
        "  for items in range(0, length):\n",
        "    if final == lst[items]:\n",
        "      res = items\n",
        "  \n",
        "  f = lst.pop(res)\n",
        "  \n",
        "\n",
        "\n",
        "  length = len(lst) - 1\n",
        "  flag = 1\n",
        "\n",
        "  while flag:\n",
        "      flag = 0             \n",
        "      for items in range(0, length):\n",
        "          if lst[items] > lst[items + 1]:\n",
        "              record = lst[items + 1]\n",
        "              lst[items + 1] = lst[items]\n",
        "              lst[items] = record\n",
        "              flag = 1\n",
        "\n",
        "  for i in range(0, length):\n",
        "    alpha = lst[i]\n",
        "    finall = alpha[0] + alpha[1:].lower()\n",
        "    lst[i] = finall\n",
        "\n",
        "  print (lst)\n"
      ],
      "execution_count": 0,
      "outputs": []
    },
    {
      "cell_type": "code",
      "metadata": {
        "id": "TXyBs9e0b9hn",
        "colab_type": "code",
        "outputId": "7c347382-6165-4a69-dd58-36674d59a5bc",
        "colab": {
          "base_uri": "https://localhost:8080/",
          "height": 55
        }
      },
      "source": [
        "arg_sort_alphabetically(states)\n"
      ],
      "execution_count": 7,
      "outputs": [
        {
          "output_type": "stream",
          "text": [
            "['Alaska', 'Arizona', 'Arkansas', 'California', 'Colorado', 'Connecticut', 'Delaware', 'Florida', 'Georgia', 'Hawaii', 'Idaho', 'Illinois', 'Indiana', 'Iowa', 'Kansas', 'Kentucky', 'Louisiana', 'Maine', 'Maryland', 'Massachusetts', 'Michigan', 'Minnesota', 'Mississippi', 'Missouri', 'Montana', 'Nebraska', 'Nevada', 'New hampshire', 'New jersey', 'New mexico', 'New york', 'North carolina', 'North dakota', 'Ohio', 'Oklahoma', 'Oregon', 'Pennsylvania', 'Rhode island', 'South carolina', 'South dakota', 'Tennessee', 'Texas', 'Utah', 'Vermont', 'Virginia', 'Washington', 'West virginia', 'Wisconsin', 'Wyoming']\n"
          ],
          "name": "stdout"
        }
      ]
    },
    {
      "cell_type": "markdown",
      "metadata": {
        "id": "Kk9rNCqCYlgO",
        "colab_type": "text"
      },
      "source": [
        "4. Implement a function `outer_product` that takes two one-dimensional lists of numbers and returns the two-dimensional outer product matrix defined as:\n",
        "\n",
        "\\begin{equation*}\n",
        "\\begin{pmatrix} x_1\\\\x_2\\\\ \\vdots \\\\x_m \\end{pmatrix} \\begin{pmatrix} y_1&y_2& \\dots &y_n\\end{pmatrix} =\n",
        "\\begin{pmatrix}\n",
        "x_1y_1 & x_1y_2 & \\dots & x_1y_n\\\\\n",
        "x_2y_1 & x_2y_2 & \\dots & x_2y_n\\\\\n",
        "\\vdots & \\vdots & \\ddots & \\vdots \\\\\n",
        "x_my_1 & x_my_2 & \\dots & x_my_n\n",
        "\\end{pmatrix}\n",
        "\\end{equation*}\n",
        "\n",
        "In other words the elements of matrix C which is the outer product of A and B are $c_{ij} = a_i b_j$."
      ]
    },
    {
      "cell_type": "code",
      "metadata": {
        "id": "Z4yyqkh5ZusS",
        "colab_type": "code",
        "colab": {}
      },
      "source": [
        "import numpy as np\n",
        "def outer_product(lst1, lst2):\n",
        "  a = np.array([lst2]).reshape(3,1)\n",
        "  b = np.array([lst1]).reshape(1,3)\n",
        "  print(a.dot(b))"
      ],
      "execution_count": 0,
      "outputs": []
    },
    {
      "cell_type": "code",
      "metadata": {
        "id": "x2VuabMTsEZB",
        "colab_type": "code",
        "outputId": "e168f296-6bfe-450d-c340-ece35399818d",
        "colab": {
          "base_uri": "https://localhost:8080/",
          "height": 69
        }
      },
      "source": [
        "outer_product([1,2,3],[1,2,3])"
      ],
      "execution_count": 9,
      "outputs": [
        {
          "output_type": "stream",
          "text": [
            "[[1 2 3]\n",
            " [2 4 6]\n",
            " [3 6 9]]\n"
          ],
          "name": "stdout"
        }
      ]
    },
    {
      "cell_type": "markdown",
      "metadata": {
        "id": "QkURRDceYlgP",
        "colab_type": "text"
      },
      "source": [
        "\n",
        "5. Implement a function `cumulative_sum(lst)` that takes a list of numbers and returns a list of same size where the element `i` is the sum of the elements `0` to `i` of the input list. For example given `[1,2,3]`, you should return [1,3,6]."
      ]
    },
    {
      "cell_type": "code",
      "metadata": {
        "id": "sYC24f6h_tv1",
        "colab_type": "code",
        "colab": {}
      },
      "source": [
        "def cumulative_sum(lst):\n",
        "\n",
        "  length = len(lst)\n",
        "  \n",
        "  for i in range(0, length):\n",
        "    if i>0 and i<=length:\n",
        "      sum = lst[i] + lst[i-1]\n",
        "      lst[i] = sum\n",
        "\n",
        "  print (lst)\n",
        "\n",
        "\n"
      ],
      "execution_count": 0,
      "outputs": []
    },
    {
      "cell_type": "code",
      "metadata": {
        "id": "WZ1AMxHJAAPX",
        "colab_type": "code",
        "outputId": "9704ece6-4362-40f3-98d6-3b86f0244172",
        "colab": {
          "base_uri": "https://localhost:8080/",
          "height": 35
        }
      },
      "source": [
        "cumulative_sum([1,2,3,4,5])"
      ],
      "execution_count": 11,
      "outputs": [
        {
          "output_type": "stream",
          "text": [
            "[1, 3, 6, 10, 15]\n"
          ],
          "name": "stdout"
        }
      ]
    },
    {
      "cell_type": "markdown",
      "metadata": {
        "id": "nwQjt_pNYlgP",
        "colab_type": "text"
      },
      "source": [
        "6. Imagine you have a normal distributed random variable `x`. For example `x` can be grades on this exam. Using the normal distribution generator and histogram functions from lecture (provided below) and `cumulative_sum` from previous question to compute what is the value of `x_{90}` in $\\sigma$ such that 90% of the values $x$ are below `x_{90}`. In other words:"
      ]
    },
    {
      "cell_type": "markdown",
      "metadata": {
        "id": "upixh5DuYlgQ",
        "colab_type": "text"
      },
      "source": [
        "$$\n",
        "\\int_{-\\infty}^{x_{90}} N(x;\\mu=0,\\sigma=1) dx = 0.9\n",
        "$$"
      ]
    },
    {
      "cell_type": "code",
      "metadata": {
        "id": "CpRYGOV6K0Li",
        "colab_type": "code",
        "colab": {}
      },
      "source": [
        ""
      ],
      "execution_count": 0,
      "outputs": []
    },
    {
      "cell_type": "code",
      "metadata": {
        "id": "UtlAnl6yYlgQ",
        "colab_type": "code",
        "colab": {}
      },
      "source": [
        "def generate_normal(N,m=0,s=1):\n",
        "    out = list() \n",
        "    \n",
        "    while len(out)<N:\n",
        "#    for _ in range(int(float(N)/2)+1):\n",
        "        U1=random.random()\n",
        "        U2=random.random()\n",
        "    \n",
        "        out.append(s*math.sqrt(-2*math.log(U1))*math.cos(2*math.pi*U2)+m)\n",
        "        out.append(s*math.sqrt(-2*math.log(U1))*math.sin(2*math.pi*U2)+m)\n",
        "\n",
        "    return out[:N]\n",
        "\n",
        "def histogram(data, n_bins=10,x_min=None, x_max=None):\n",
        "    if x_min==None:\n",
        "        x_min=min(data)\n",
        "    if x_max==None:\n",
        "        x_max=max(data)\n",
        "        \n",
        "    bin_edges = arange(x_min,x_max,n_bins)\n",
        "    bin_edges.append(x_max)\n",
        "\n",
        "    hist=[0]*n_bins\n",
        "    \n",
        "    for d in data:\n",
        "        for i in range(n_bins):\n",
        "            if d>=bin_edges[i] and d<bin_edges[i+1]:\n",
        "                hist[i]+=1\n",
        "                break\n",
        "                \n",
        "    return hist,bin_edges\n",
        "\n"
      ],
      "execution_count": 0,
      "outputs": []
    }
  ]
}