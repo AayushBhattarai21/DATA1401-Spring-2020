{
  "nbformat": 4,
  "nbformat_minor": 0,
  "metadata": {
    "kernelspec": {
      "display_name": "Python 2",
      "language": "python",
      "name": "python2"
    },
    "language_info": {
      "codemirror_mode": {
        "name": "ipython",
        "version": 2
      },
      "file_extension": ".py",
      "mimetype": "text/x-python",
      "name": "python",
      "nbconvert_exporter": "python",
      "pygments_lexer": "ipython2",
      "version": "2.7.16"
    },
    "colab": {
      "name": "Lab-2.ipynb",
      "provenance": []
    }
  },
  "cells": [
    {
      "cell_type": "markdown",
      "metadata": {
        "id": "uk7yc0nadBGa",
        "colab_type": "text"
      },
      "source": [
        "# Lab 2\n",
        "\n",
        "[![Open In Colab](https://colab.research.google.com/assets/colab-badge.svg)](https://colab.research.google.com/github//afarbin/DATA1401-Spring-2020/blob/master/Labs/Lab-2/Lab-2.ipynb)\n",
        "\n",
        "## Submitting lab solutions\n",
        "\n",
        "At the end of the previous lab, you should have set up a \"Solutions\" directory in your home directory on TACC, with a fork of the class git repository that pull from Dr. Farbin's verison and pushes to your own fork. \n",
        "\n",
        "Open a terminal, navigate to your fork, and use `git remote -v` to verify that things are correctly setup.\n",
        "\n",
        "Your solutions to the lab 2 are either sitting in this fork, or in the first clone of the class repository that you made at the beginning of lab 2. \n",
        "\n",
        "Note that Jupyter tends to auto-save your work. But to make sure, it is a good habit to use the \"Save and Checkpoint\" command from the \"File\" menu whenever you are ending a session.\n",
        "\n",
        "Locate the your lab 2 notebook and copy and rename it into the same directory in your fork. \n",
        "\n",
        "For example:"
      ]
    },
    {
      "cell_type": "code",
      "metadata": {
        "id": "CtPQXoQMdBGg",
        "colab_type": "code",
        "colab": {}
      },
      "source": [
        "!cp ~/DATA1401-Spring-2019/Labs/Lab-2/Lab-2.ipynb ~/Solutions/DATA1401-Spring-2019/Labs/Lab-2/Lab-2-Solution.ipynb"
      ],
      "execution_count": 0,
      "outputs": []
    },
    {
      "cell_type": "markdown",
      "metadata": {
        "id": "b04FrL7sdBGr",
        "colab_type": "text"
      },
      "source": [
        "The reason we are renaming the file is due to a complication that you may experience when pulling updates into your fork. If a file was updated after your last pull and modifications, your modifications will likely cause a merge conflict, which can be a headache to resolve. Creating a new file side-steps this problem.\n",
        "\n",
        "Now that you have a new file in your fork, add the file into local repository:"
      ]
    },
    {
      "cell_type": "code",
      "metadata": {
        "id": "2o9JmQ1QdBGs",
        "colab_type": "code",
        "colab": {}
      },
      "source": [
        "!git add ~/Solutions/DATA1401-Spring-2019/Labs/Lab-2/Lab-2-Solution.ipynb"
      ],
      "execution_count": 0,
      "outputs": []
    },
    {
      "cell_type": "markdown",
      "metadata": {
        "id": "HX4xOctmdBG0",
        "colab_type": "text"
      },
      "source": [
        "You only need to add a file once. Next, commit this file to your local copy of the repository:"
      ]
    },
    {
      "cell_type": "code",
      "metadata": {
        "id": "Tn9jf5VXdBG1",
        "colab_type": "code",
        "colab": {}
      },
      "source": [
        "!git commit -a -m \"My Lab 2 Solutions\""
      ],
      "execution_count": 0,
      "outputs": []
    },
    {
      "cell_type": "markdown",
      "metadata": {
        "id": "JfKXTlv1dBG5",
        "colab_type": "text"
      },
      "source": [
        "You are required to provide a text message when commiting files, and the `-m` option is the nicest way to do it. If you do not supply a message, you will find yourself in a text editor (most likely vi) which is difficult to use and forced to enter a message.\n",
        "\n",
        "You will need to commit your changes every time you wish to submit any changes. So if you keep working or come back to a lab, make sure you commit your changes.\n",
        "\n",
        "Now that you committed your changes, you will need to push these changes to the fork of the package in your github account:"
      ]
    },
    {
      "cell_type": "code",
      "metadata": {
        "id": "L7UZOLYAdBG6",
        "colab_type": "code",
        "colab": {}
      },
      "source": [
        "!git push"
      ],
      "execution_count": 0,
      "outputs": []
    },
    {
      "cell_type": "markdown",
      "metadata": {
        "id": "3dI_D9PAdBG-",
        "colab_type": "text"
      },
      "source": [
        "You will likely need to supply you git username and password.\n",
        "\n",
        "Your lab is now available for grading. Remember that unless you commit and push your work, it will not be seen.\n",
        "\n",
        "From now on, use this procedure to submit your solutions to labs, including the remainder of this lab. \n",
        "\n",
        "You can work in your Solutions directory if you like. But note that it may be a good practice to use the \"File\" menu to duplicate and remain labs when you first start. Besides letting you avoid having to do the copy later, you will have a copy of the original notebook, in case you delete something and can pull updates, in case of bug fixes."
      ]
    },
    {
      "cell_type": "markdown",
      "metadata": {
        "id": "q-gMWiE4dBG_",
        "colab_type": "text"
      },
      "source": [
        "## Python Programming\n",
        "\n",
        "In the remainder of this lab you will practice python by solving some simple exercises. \n",
        "\n",
        "*Exercise 1:* Write 2 functions `even(x)` and `odd(x)` that take an integer and returns True if the input is even or odd, otherwise returns False. Use cell below for your solution. Use the subsequent cell to demonstrate that your solution works. Feel free to add additional cell as needed using the \"+\" button on the button bar above. "
      ]
    },
    {
      "cell_type": "code",
      "metadata": {
        "id": "jwN5jff1dBG_",
        "colab_type": "code",
        "colab": {}
      },
      "source": [
        "# Write you solution here"
      ],
      "execution_count": 0,
      "outputs": []
    },
    {
      "cell_type": "code",
      "metadata": {
        "id": "xNJAcodhdBHB",
        "colab_type": "code",
        "colab": {}
      },
      "source": [
        "# Test your solution here"
      ],
      "execution_count": 0,
      "outputs": []
    },
    {
      "cell_type": "markdown",
      "metadata": {
        "id": "KL_pyzG8dBHD",
        "colab_type": "text"
      },
      "source": [
        "*Exercise 2:* Write a function that takes a list of numbers as input and returns a list of the subset of elements that are less that 10. Test your solution."
      ]
    },
    {
      "cell_type": "code",
      "metadata": {
        "id": "g8nt0wnldBHE",
        "colab_type": "code",
        "colab": {}
      },
      "source": [
        "# Write you solution here"
      ],
      "execution_count": 0,
      "outputs": []
    },
    {
      "cell_type": "code",
      "metadata": {
        "id": "__HTUWA1dBHH",
        "colab_type": "code",
        "colab": {}
      },
      "source": [
        "# Test your solution here"
      ],
      "execution_count": 0,
      "outputs": []
    },
    {
      "cell_type": "markdown",
      "metadata": {
        "id": "T0cx91JudBHK",
        "colab_type": "text"
      },
      "source": [
        "*Exercise 3:* Write a function that takes a number `x_max` as input and returns a function that performs the same task as exercise 2, but for `x_max` instead of 10."
      ]
    },
    {
      "cell_type": "code",
      "metadata": {
        "id": "PqummMcmdBHK",
        "colab_type": "code",
        "colab": {}
      },
      "source": [
        "# Write you solution here"
      ],
      "execution_count": 0,
      "outputs": []
    },
    {
      "cell_type": "code",
      "metadata": {
        "id": "evRYemjXdBHN",
        "colab_type": "code",
        "colab": {}
      },
      "source": [
        "# Test your solution here"
      ],
      "execution_count": 0,
      "outputs": []
    },
    {
      "cell_type": "markdown",
      "metadata": {
        "id": "h0I8M27LdBHP",
        "colab_type": "text"
      },
      "source": [
        "*Exercise 4:* Write a function that takes an interger as input and returns a list of all divisors of that number."
      ]
    },
    {
      "cell_type": "code",
      "metadata": {
        "id": "k6GUpDyrdBHP",
        "colab_type": "code",
        "colab": {}
      },
      "source": [
        "# Write you solution here"
      ],
      "execution_count": 0,
      "outputs": []
    },
    {
      "cell_type": "code",
      "metadata": {
        "id": "YDvRmft-dBHR",
        "colab_type": "code",
        "colab": {}
      },
      "source": [
        "# Test your solution here"
      ],
      "execution_count": 0,
      "outputs": []
    },
    {
      "cell_type": "markdown",
      "metadata": {
        "id": "IOWnLMvxdBHT",
        "colab_type": "text"
      },
      "source": [
        "*Exercise 5:* Write a function that takes 2 lists as input and returns a list that contains only the elements that are common between the lists (without duplicates). Make sure your program works on two lists of different sizes."
      ]
    },
    {
      "cell_type": "code",
      "metadata": {
        "id": "tR31bnTDdBHT",
        "colab_type": "code",
        "colab": {}
      },
      "source": [
        "# Write you solution here"
      ],
      "execution_count": 0,
      "outputs": []
    },
    {
      "cell_type": "code",
      "metadata": {
        "id": "IJDf6ebYdBHV",
        "colab_type": "code",
        "colab": {}
      },
      "source": [
        "# Test your solution here"
      ],
      "execution_count": 0,
      "outputs": []
    },
    {
      "cell_type": "markdown",
      "metadata": {
        "id": "3vA7M9pldBHX",
        "colab_type": "text"
      },
      "source": [
        "*Exercise 6:* Write a function that reads takes a string and returns `True` if the string is a palindrome. (A palindrome is a string that reads the same forwards and backwards.)"
      ]
    },
    {
      "cell_type": "code",
      "metadata": {
        "id": "ncyMDzp6dBHX",
        "colab_type": "code",
        "colab": {}
      },
      "source": [
        "# Write you solution here"
      ],
      "execution_count": 0,
      "outputs": []
    },
    {
      "cell_type": "code",
      "metadata": {
        "id": "v5cmVQ6MdBHZ",
        "colab_type": "code",
        "colab": {}
      },
      "source": [
        "# Test your solution here"
      ],
      "execution_count": 0,
      "outputs": []
    },
    {
      "cell_type": "markdown",
      "metadata": {
        "id": "fT35xwandBHc",
        "colab_type": "text"
      },
      "source": [
        "*Exercise 7:* Write a Rock-Paper-Scissors game function, that takes 2 strings, the inputs of player 1 and player 2, and output 1 or 2 corresponding to which player wins, or 0 if draw.\n",
        "\n",
        "Implement a Rock-Paper-Scissors game by soliciting input from 2 players, testing with this function, and repeating if there is a draw.\n",
        "\n",
        "Remember the rules:\n",
        "\n",
        "* Rock beats scissors\n",
        "* Scissors beats paper\n",
        "* Paper beats rock"
      ]
    },
    {
      "cell_type": "code",
      "metadata": {
        "id": "U1_HxxaWdBHd",
        "colab_type": "code",
        "colab": {}
      },
      "source": [
        "# Write you solution here"
      ],
      "execution_count": 0,
      "outputs": []
    },
    {
      "cell_type": "code",
      "metadata": {
        "id": "ooR2ldZBdBHf",
        "colab_type": "code",
        "colab": {}
      },
      "source": [
        "# Test your solution here"
      ],
      "execution_count": 0,
      "outputs": []
    },
    {
      "cell_type": "markdown",
      "metadata": {
        "id": "dJQzXNKzdBHh",
        "colab_type": "text"
      },
      "source": [
        "*Exercise 8:* Write a function that takes a integer `n` as input and \n",
        "outputs a list of the first `n` Fibonnaci numbers.\n",
        "\n",
        "The Fibonnaci seqence is a sequence of numbers where the next number in the sequence is the sum of the previous two numbers in the sequence. The sequence looks like this: 1, 1, 2, 3, 5, 8, 13, …)"
      ]
    },
    {
      "cell_type": "code",
      "metadata": {
        "id": "G_4ooRXTdBHh",
        "colab_type": "code",
        "colab": {}
      },
      "source": [
        "# Write you solution here"
      ],
      "execution_count": 0,
      "outputs": []
    },
    {
      "cell_type": "code",
      "metadata": {
        "id": "rzK5FskJdBHj",
        "colab_type": "code",
        "colab": {}
      },
      "source": [
        "# Test your solution here"
      ],
      "execution_count": 0,
      "outputs": []
    },
    {
      "cell_type": "markdown",
      "metadata": {
        "id": "q6c_AskadBHl",
        "colab_type": "text"
      },
      "source": [
        "*Exercise 9:* Write a function that takes a string of consisting of several words and returns a string that reverses the order of the words.\n"
      ]
    },
    {
      "cell_type": "code",
      "metadata": {
        "id": "aJdXX6FHdBHl",
        "colab_type": "code",
        "colab": {}
      },
      "source": [
        "# Write you solution here"
      ],
      "execution_count": 0,
      "outputs": []
    },
    {
      "cell_type": "code",
      "metadata": {
        "id": "nQyhnLZ_dBHn",
        "colab_type": "code",
        "colab": {}
      },
      "source": [
        "# Test your solution here"
      ],
      "execution_count": 0,
      "outputs": []
    },
    {
      "cell_type": "markdown",
      "metadata": {
        "id": "NFSmRaSydBHq",
        "colab_type": "text"
      },
      "source": [
        "*Exercise 11:* Write a guessing game program that will repeatedly guess a number that the users picks, with the user indicating higher or lower, until it correctly guesses the number."
      ]
    },
    {
      "cell_type": "code",
      "metadata": {
        "id": "Ie2E1JzCdBHr",
        "colab_type": "code",
        "colab": {}
      },
      "source": [
        "# Write you solution here"
      ],
      "execution_count": 0,
      "outputs": []
    },
    {
      "cell_type": "code",
      "metadata": {
        "id": "6T8YdWSMdBHs",
        "colab_type": "code",
        "colab": {}
      },
      "source": [
        "# Test your solution here"
      ],
      "execution_count": 0,
      "outputs": []
    },
    {
      "cell_type": "markdown",
      "metadata": {
        "id": "C7A5IU0XdBHv",
        "colab_type": "text"
      },
      "source": [
        "*Exercise 10:* Write a function that takes 2 integers `n` and `m` as input and draws a `n` by `m` game board. For example the following is a 3x3 board:\n",
        "```\n",
        "   --- --- --- \n",
        "  |   |   |   | \n",
        "   --- --- ---  \n",
        "  |   |   |   | \n",
        "   --- --- ---  \n",
        "  |   |   |   | \n",
        "   --- --- --- \n",
        "   ```"
      ]
    },
    {
      "cell_type": "code",
      "metadata": {
        "id": "NpF7BYH1dBHw",
        "colab_type": "code",
        "colab": {}
      },
      "source": [
        "# Write you solution here"
      ],
      "execution_count": 0,
      "outputs": []
    },
    {
      "cell_type": "code",
      "metadata": {
        "id": "xwmg1Xg7dBHx",
        "colab_type": "code",
        "colab": {}
      },
      "source": [
        "# Test your solution here"
      ],
      "execution_count": 0,
      "outputs": []
    },
    {
      "cell_type": "markdown",
      "metadata": {
        "id": "NpICDUfWdBHz",
        "colab_type": "text"
      },
      "source": [
        "*Exercise 11:* Write a function that takes a `n` by `n` matrix representing a tic-tac-toe game, and return -1, 0, 1, or 2 indicating the game is incomplete, the game is a draw, player 1 has won, or player 2 has one, respectively. Here are some example inputs:"
      ]
    },
    {
      "cell_type": "code",
      "metadata": {
        "id": "CFqrNOFwdBHz",
        "colab_type": "code",
        "colab": {}
      },
      "source": [
        "winner_is_2 = [[2, 2, 0],\n",
        "\t[2, 1, 0],\n",
        "\t[2, 1, 1]]\n",
        "\n",
        "winner_is_1 = [[1, 2, 0],\n",
        "\t[2, 1, 0],\n",
        "\t[2, 1, 1]]\n",
        "\n",
        "winner_is_also_1 = [[0, 1, 0],\n",
        "\t[2, 1, 0],\n",
        "\t[2, 1, 1]]\n",
        "\n",
        "no_winner = [[1, 2, 0],\n",
        "\t[2, 1, 0],\n",
        "\t[2, 1, 2]]\n",
        "\n",
        "also_no_winner = [[1, 2, 0],\n",
        "\t[2, 1, 0],\n",
        "\t[2, 1, 0]]"
      ],
      "execution_count": 0,
      "outputs": []
    },
    {
      "cell_type": "code",
      "metadata": {
        "id": "5BdAwkomdBH1",
        "colab_type": "code",
        "colab": {}
      },
      "source": [
        "# Write you solution here"
      ],
      "execution_count": 0,
      "outputs": []
    },
    {
      "cell_type": "code",
      "metadata": {
        "id": "OS-YyevMdBH3",
        "colab_type": "code",
        "colab": {}
      },
      "source": [
        "# Test your solution here"
      ],
      "execution_count": 0,
      "outputs": []
    },
    {
      "cell_type": "markdown",
      "metadata": {
        "id": "MfxmsBsvdBH6",
        "colab_type": "text"
      },
      "source": [
        "*Exercise 12:* Modify exercise 10, so that it takes a matrix of the form from exercise 11 and draws a tic-tac-tie board with \"X\"s and \"O\"s.  "
      ]
    },
    {
      "cell_type": "code",
      "metadata": {
        "id": "GJatG8VedBH7",
        "colab_type": "code",
        "colab": {}
      },
      "source": [
        "# Write you solution here"
      ],
      "execution_count": 0,
      "outputs": []
    },
    {
      "cell_type": "code",
      "metadata": {
        "id": "NEJrbhGLdBH9",
        "colab_type": "code",
        "colab": {}
      },
      "source": [
        "# Test your solution here"
      ],
      "execution_count": 0,
      "outputs": []
    },
    {
      "cell_type": "markdown",
      "metadata": {
        "id": "xxNCcfD3dBH-",
        "colab_type": "text"
      },
      "source": [
        "*Exercise 12:* Use the two previous exercises to implement a full tic-tac-toe game, where 2 players are repeatedly asked for x and y coordinates of where they wish to place a mark, an appropriate board is drawn, and the game status is checked until a player wins or a draw occurs."
      ]
    },
    {
      "cell_type": "code",
      "metadata": {
        "id": "0QSQLBlWdBH_",
        "colab_type": "code",
        "colab": {}
      },
      "source": [
        "# Write you solution here"
      ],
      "execution_count": 0,
      "outputs": []
    },
    {
      "cell_type": "code",
      "metadata": {
        "id": "0H24LEyDdBIA",
        "colab_type": "code",
        "colab": {}
      },
      "source": [
        "# Test your solution here"
      ],
      "execution_count": 0,
      "outputs": []
    }
  ]
}