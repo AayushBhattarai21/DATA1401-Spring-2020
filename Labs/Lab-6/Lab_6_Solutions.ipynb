{
  "nbformat": 4,
  "nbformat_minor": 0,
  "metadata": {
    "colab": {
      "name": "Lab 6 Solutions.ipynb",
      "provenance": [],
      "collapsed_sections": []
    },
    "kernelspec": {
      "name": "python3",
      "display_name": "Python 3"
    }
  },
  "cells": [
    {
      "cell_type": "code",
      "metadata": {
        "id": "Iy4XH2IodyT4",
        "colab_type": "code",
        "colab": {}
      },
      "source": [
        "#Problem Number 1\n",
        "class matrix:\n",
        "    def __init__(self,m,n):\n",
        "      self.__n = n\n",
        "      self.__m = m\n",
        "\n",
        "    def zero_matrix(self):\n",
        "      self.__mat = [ [0 for i in range(self.__n)] for j in range(self.__m)]\n",
        "      return self.__mat\n",
        "\n",
        "    def new_matrix(self):\n",
        "      self.__newmat = [[1,2,1,3,3],[5,3,2,6,1],[2,2,2,7,6],[6,7,8,7,0],[7,1,4,5,6],[3,4,6,1,0]]\n",
        "      return self.__newmat\n",
        "\n",
        "#Problem number 2\n",
        "    def shape(self):\n",
        "      self.__m = len(self.__newmat)\n",
        "      self.__n = len(self.__newmat[0])\n",
        "      return self.__m,self.__n\n",
        "\n",
        "    def transpose(self):\n",
        "      self.__trans = [ [0 for i in range(self.__m)] for j in range(self.__n)]\n",
        "\n",
        "      for i in range(self.__m):\n",
        "        for j in range(self.__n):\n",
        "            self.__trans[j][i]=self.__newmat[i][j]    \n",
        "      return self.__trans\n",
        "      \n",
        "    def row(self, n):\n",
        "      for i in range(len(self.__newmat)):\n",
        "        self.__row = [self.__newmat[n][i]]\n",
        "        print(self.__row)\n",
        "      \n",
        "    def column(self, n):\n",
        "      self.__column = [row[n] for row in self.__newmat]\n",
        "      return list(self.__column)\n",
        "    \n",
        "    def to_list(self):\n",
        "      listoflist = list(self.__newmat)\n",
        "      return listoflist\n",
        "\n",
        "    def block(self, n_0,n_1,m_0,m_1):\n",
        "      r = m_1 - m_0 + 1\n",
        "      c = n_1 - n_0 + 1 \n",
        "      self.__smallmat = [[self.__newmat[m_0][n_0] for i in range(m_0, m_1)] for j in range(n_0, n_1)]\n",
        "      return self.__smallmat\n",
        "\n",
        "#Problem Number 4 \n",
        "    def scalarmul(self,c):\n",
        "      self.__out = [ [0 for i in range(self.__n)] for j in range(self.__m)]\n",
        "      for i in range(self.__m):\n",
        "        for j in range(self.__n):\n",
        "          self.__out[i][j] = self.__newmat[i][j] * c\n",
        "      print(self.__out)\n",
        "\n",
        "    def add(self, N):\n",
        "      self.__newmat2 = N\n",
        "      row1 = len(self.__newmat)\n",
        "      row2 = len(self.__newmat2)\n",
        "      column1 = len(self.__newmat[0])\n",
        "      column2 = len(self.__newmat[0])\n",
        "\n",
        "      \n",
        "      if row1 == row2 and column1 == column2:\n",
        "        self.__matadd = [ [0 for i in range(column1)] for j in range(row1)]\n",
        "\n",
        "        i = 0\n",
        "        j = 0\n",
        "\n",
        "        while (i < row2):\n",
        "          while (j < column2):\n",
        "            self.__matadd[i][j]=self.__newmat[i][j]+self.__newmat2[i][j]\n",
        "            j += 1\n",
        "          i += 1\n",
        "        return self.__matadd\n",
        "\n",
        "    def sub(self, N):\n",
        "      self.__newmat2 = N\n",
        "      row1 = len(self.__newmat)\n",
        "      row2 = len(self.__newmat2)\n",
        "      column1 = len(self.__newmat[0])\n",
        "      column2 = len(self.__newmat[0])\n",
        "\n",
        "      \n",
        "      if row1 == row2 and column1 == column2:\n",
        "        self.__matsub = [ [0 for i in range(column1)] for j in range(row1)]\n",
        "\n",
        "        i = 0\n",
        "        j = 0\n",
        "\n",
        "        while (i < row2):\n",
        "          while (j < column2):\n",
        "            self.__matsub[i][j]=self.__newmat[i][j]-self.__newmat2[i][j]\n",
        "            j += 1\n",
        "          i += 1\n",
        "        return self.__matsub\n",
        "\n",
        "      return False\n",
        "\n",
        "    def mat_mult(self, N):\n",
        "      \n",
        "      row = len(self.__newmat)\n",
        "      column = len(self.__newmat[0])\n",
        "      self.__newmat3 = N\n",
        "      \n",
        "      self.__newmatmult = [ [0 for i in range(row)] for j in range(column)]\n",
        "\n",
        "\n",
        "      i = 0\n",
        "      j = 0\n",
        "      k = 0\n",
        "      while (i < row):\n",
        "        while (j < column):\n",
        "          while (k < row):\n",
        "            self.__newmatmult[i][j] += self.__newmat[i][k] * self.__newmat3[k][j]\n",
        "            k = k+1\n",
        "          j = j + 1\n",
        "        i = i + 1\n",
        "      return self.__newmatmult\n",
        "\n",
        "    def element_mult(self, N):\n",
        "      self.__newmat2 = N\n",
        "      row1 = len(self.__newmat)\n",
        "      row2 = len(self.__newmat2)\n",
        "      column1 = len(self.__newmat[0])\n",
        "      column2 = len(self.__newmat[0])\n",
        "\n",
        "        \n",
        "      if row1 == row2 and column1 == column2:\n",
        "        self.__elementmult = [ [0 for i in range(column1)] for j in range(row1)]\n",
        "\n",
        "        i = 0\n",
        "        j = 0\n",
        "\n",
        "        while (i < row2):\n",
        "          while (j < column2):\n",
        "            self.__elementmult[i][j]=self.__newmat[i][j]*self.__newmat2[i][j]\n",
        "            j += 1\n",
        "          i += 1\n",
        "        \n",
        "        return self.__elementmult\n",
        "      \n",
        "    def equals(self, N):\n",
        "      row1 = len(self.__newmat)\n",
        "      column1 = len(self.__newmat[0])\n",
        "      row2 = len(N)\n",
        "      column2 = len(N[0])\n",
        "\n",
        "      if ((row1 == row2) and (column1 == column2)):\n",
        "        return True\n",
        "      else:\n",
        "        return False\n",
        "\n",
        "#Problem Number 6\n",
        "    def matrixproperty(self, A):\n",
        "\n",
        "      self.__A = A\n",
        "      matrix = list() \n",
        "      for x in range(0, 2): \n",
        "        row=list()\n",
        "        for y in range(0, 2): \n",
        "      \n",
        "          if (x == y): \n",
        "            row.append(1) \n",
        "          else: \n",
        "            row.append(0) \n",
        "        matrix.append(row)\n",
        "      \n",
        "      result = [[0,0],[0,0]]\n",
        "      \n",
        "      for i in range(2):\n",
        "        for j in range(2):\n",
        "       # iterate through rows of Y\n",
        "          for k in range(2):\n",
        "           result[i][j] += self.__A[i][k] * matrix[k][j]\n",
        "      print(\"Matrix A:\")\n",
        "      print(self.__A)\n",
        "      print(\"Matrix A*I:\")\n",
        "      print(result)\n",
        "\n",
        "#Problem Number 5\n",
        "    def scalarmul(self,c):\n",
        "      M = [[1,2,3]]\n",
        "      result = c * M\n",
        "      return result\n",
        "\n",
        "    def __add(self, new):\n",
        "      return self.add(new)\n",
        "\n",
        "    def __sub(self, new):\n",
        "      return self.sub(new)\n",
        "\n",
        "    def __equal(self, new):\n",
        "      return self.equals(new)\n",
        "\n",
        "\n",
        "\n",
        "\n",
        "\n",
        "\n",
        "\n",
        "\n",
        "\n",
        "        \n",
        "    \n",
        "  "
      ],
      "execution_count": 0,
      "outputs": []
    },
    {
      "cell_type": "code",
      "metadata": {
        "id": "9v18whuOd-h2",
        "colab_type": "code",
        "colab": {}
      },
      "source": [
        "my_Matrix = matrix(5,6)"
      ],
      "execution_count": 0,
      "outputs": []
    },
    {
      "cell_type": "code",
      "metadata": {
        "id": "HrSA-nt8d-1m",
        "colab_type": "code",
        "outputId": "0d01a78b-1e73-478c-825d-1cdb8c2d56f2",
        "colab": {
          "base_uri": "https://localhost:8080/",
          "height": 104
        }
      },
      "source": [
        "my_Matrix.zero_matrix()"
      ],
      "execution_count": 0,
      "outputs": [
        {
          "output_type": "execute_result",
          "data": {
            "text/plain": [
              "[[0, 0, 0, 0, 0, 0],\n",
              " [0, 0, 0, 0, 0, 0],\n",
              " [0, 0, 0, 0, 0, 0],\n",
              " [0, 0, 0, 0, 0, 0],\n",
              " [0, 0, 0, 0, 0, 0]]"
            ]
          },
          "metadata": {
            "tags": []
          },
          "execution_count": 354
        }
      ]
    },
    {
      "cell_type": "code",
      "metadata": {
        "id": "GB_ugNX3d_mC",
        "colab_type": "code",
        "outputId": "858c6535-f143-43f9-f4a7-5918ef448be8",
        "colab": {
          "base_uri": "https://localhost:8080/",
          "height": 121
        }
      },
      "source": [
        "my_Matrix.new_matrix()"
      ],
      "execution_count": 0,
      "outputs": [
        {
          "output_type": "execute_result",
          "data": {
            "text/plain": [
              "[[1, 2, 1, 3, 3],\n",
              " [5, 3, 2, 6, 1],\n",
              " [2, 2, 2, 7, 6],\n",
              " [6, 7, 8, 7, 0],\n",
              " [7, 1, 4, 5, 6],\n",
              " [3, 4, 6, 1, 0]]"
            ]
          },
          "metadata": {
            "tags": []
          },
          "execution_count": 355
        }
      ]
    },
    {
      "cell_type": "code",
      "metadata": {
        "id": "Lpbyh5jhd_xE",
        "colab_type": "code",
        "outputId": "c318bf65-17fd-4ef7-a1bb-bd8c232261b6",
        "colab": {
          "base_uri": "https://localhost:8080/",
          "height": 35
        }
      },
      "source": [
        "my_Matrix.shape()"
      ],
      "execution_count": 0,
      "outputs": [
        {
          "output_type": "execute_result",
          "data": {
            "text/plain": [
              "(6, 5)"
            ]
          },
          "metadata": {
            "tags": []
          },
          "execution_count": 356
        }
      ]
    },
    {
      "cell_type": "code",
      "metadata": {
        "id": "X4RYqyrld_8P",
        "colab_type": "code",
        "outputId": "44dcedd6-317e-4255-f6f6-4fb8795606ae",
        "colab": {
          "base_uri": "https://localhost:8080/",
          "height": 104
        }
      },
      "source": [
        "my_Matrix.transpose()"
      ],
      "execution_count": 0,
      "outputs": [
        {
          "output_type": "execute_result",
          "data": {
            "text/plain": [
              "[[1, 5, 2, 6, 7, 3],\n",
              " [2, 3, 2, 7, 1, 4],\n",
              " [1, 2, 2, 8, 4, 6],\n",
              " [3, 6, 7, 7, 5, 1],\n",
              " [3, 1, 6, 0, 6, 0]]"
            ]
          },
          "metadata": {
            "tags": []
          },
          "execution_count": 357
        }
      ]
    },
    {
      "cell_type": "code",
      "metadata": {
        "id": "IRFLH5WweAHP",
        "colab_type": "code",
        "outputId": "f6281b46-ec6c-403a-e0d7-9a561348e854",
        "colab": {
          "base_uri": "https://localhost:8080/",
          "height": 35
        }
      },
      "source": [
        "my_Matrix.column(0)"
      ],
      "execution_count": 0,
      "outputs": [
        {
          "output_type": "execute_result",
          "data": {
            "text/plain": [
              "[1, 5, 2, 6, 7, 3]"
            ]
          },
          "metadata": {
            "tags": []
          },
          "execution_count": 358
        }
      ]
    },
    {
      "cell_type": "code",
      "metadata": {
        "id": "Xvq_9gaZeASQ",
        "colab_type": "code",
        "outputId": "16772176-6695-46c4-a766-f2625614f41e",
        "colab": {
          "base_uri": "https://localhost:8080/",
          "height": 374
        }
      },
      "source": [
        "my_Matrix.row(1)"
      ],
      "execution_count": 0,
      "outputs": [
        {
          "output_type": "stream",
          "text": [
            "[5]\n",
            "[3]\n",
            "[2]\n",
            "[6]\n",
            "[1]\n"
          ],
          "name": "stdout"
        },
        {
          "output_type": "error",
          "ename": "IndexError",
          "evalue": "ignored",
          "traceback": [
            "\u001b[0;31m---------------------------------------------------------------------------\u001b[0m",
            "\u001b[0;31mIndexError\u001b[0m                                Traceback (most recent call last)",
            "\u001b[0;32m<ipython-input-359-cf532fb6f923>\u001b[0m in \u001b[0;36m<module>\u001b[0;34m()\u001b[0m\n\u001b[0;32m----> 1\u001b[0;31m \u001b[0mmy_Matrix\u001b[0m\u001b[0;34m.\u001b[0m\u001b[0mrow\u001b[0m\u001b[0;34m(\u001b[0m\u001b[0;36m1\u001b[0m\u001b[0;34m)\u001b[0m\u001b[0;34m\u001b[0m\u001b[0;34m\u001b[0m\u001b[0m\n\u001b[0m",
            "\u001b[0;32m<ipython-input-352-cd0cf15688e8>\u001b[0m in \u001b[0;36mrow\u001b[0;34m(self, n)\u001b[0m\n\u001b[1;32m     28\u001b[0m     \u001b[0;32mdef\u001b[0m \u001b[0mrow\u001b[0m\u001b[0;34m(\u001b[0m\u001b[0mself\u001b[0m\u001b[0;34m,\u001b[0m \u001b[0mn\u001b[0m\u001b[0;34m)\u001b[0m\u001b[0;34m:\u001b[0m\u001b[0;34m\u001b[0m\u001b[0;34m\u001b[0m\u001b[0m\n\u001b[1;32m     29\u001b[0m       \u001b[0;32mfor\u001b[0m \u001b[0mi\u001b[0m \u001b[0;32min\u001b[0m \u001b[0mrange\u001b[0m\u001b[0;34m(\u001b[0m\u001b[0mlen\u001b[0m\u001b[0;34m(\u001b[0m\u001b[0mself\u001b[0m\u001b[0;34m.\u001b[0m\u001b[0m__newmat\u001b[0m\u001b[0;34m)\u001b[0m\u001b[0;34m)\u001b[0m\u001b[0;34m:\u001b[0m\u001b[0;34m\u001b[0m\u001b[0;34m\u001b[0m\u001b[0m\n\u001b[0;32m---> 30\u001b[0;31m         \u001b[0mself\u001b[0m\u001b[0;34m.\u001b[0m\u001b[0m__row\u001b[0m \u001b[0;34m=\u001b[0m \u001b[0;34m[\u001b[0m\u001b[0mself\u001b[0m\u001b[0;34m.\u001b[0m\u001b[0m__newmat\u001b[0m\u001b[0;34m[\u001b[0m\u001b[0mn\u001b[0m\u001b[0;34m]\u001b[0m\u001b[0;34m[\u001b[0m\u001b[0mi\u001b[0m\u001b[0;34m]\u001b[0m\u001b[0;34m]\u001b[0m\u001b[0;34m\u001b[0m\u001b[0;34m\u001b[0m\u001b[0m\n\u001b[0m\u001b[1;32m     31\u001b[0m         \u001b[0mprint\u001b[0m\u001b[0;34m(\u001b[0m\u001b[0mself\u001b[0m\u001b[0;34m.\u001b[0m\u001b[0m__row\u001b[0m\u001b[0;34m)\u001b[0m\u001b[0;34m\u001b[0m\u001b[0;34m\u001b[0m\u001b[0m\n\u001b[1;32m     32\u001b[0m \u001b[0;34m\u001b[0m\u001b[0m\n",
            "\u001b[0;31mIndexError\u001b[0m: list index out of range"
          ]
        }
      ]
    },
    {
      "cell_type": "code",
      "metadata": {
        "id": "xaf61uHgeAdo",
        "colab_type": "code",
        "outputId": "0d6600b8-a42d-43e7-b59a-798b23225d34",
        "colab": {
          "base_uri": "https://localhost:8080/",
          "height": 121
        }
      },
      "source": [
        "my_Matrix.to_list()"
      ],
      "execution_count": 0,
      "outputs": [
        {
          "output_type": "execute_result",
          "data": {
            "text/plain": [
              "[[1, 2, 1, 3, 3],\n",
              " [5, 3, 2, 6, 1],\n",
              " [2, 2, 2, 7, 6],\n",
              " [6, 7, 8, 7, 0],\n",
              " [7, 1, 4, 5, 6],\n",
              " [3, 4, 6, 1, 0]]"
            ]
          },
          "metadata": {
            "tags": []
          },
          "execution_count": 360
        }
      ]
    },
    {
      "cell_type": "code",
      "metadata": {
        "id": "ZNAtDVi3eAok",
        "colab_type": "code",
        "outputId": "ec0e5dd5-ab18-4822-f60b-d6c0389fb2a1",
        "colab": {
          "base_uri": "https://localhost:8080/",
          "height": 35
        }
      },
      "source": [
        "my_Matrix.block(0,1,1,2)"
      ],
      "execution_count": 0,
      "outputs": [
        {
          "output_type": "execute_result",
          "data": {
            "text/plain": [
              "[[5]]"
            ]
          },
          "metadata": {
            "tags": []
          },
          "execution_count": 361
        }
      ]
    },
    {
      "cell_type": "code",
      "metadata": {
        "id": "gLQvAKz-eZOQ",
        "colab_type": "code",
        "outputId": "7e3fefba-fff2-4645-8e7e-606003628d78",
        "colab": {
          "base_uri": "https://localhost:8080/",
          "height": 35
        }
      },
      "source": [
        "my_Matrix.scalarmul(2)"
      ],
      "execution_count": 0,
      "outputs": [
        {
          "output_type": "stream",
          "text": [
            "[[2, 4, 2, 6, 6], [10, 6, 4, 12, 2], [4, 4, 4, 14, 12], [12, 14, 16, 14, 0], [14, 2, 8, 10, 12], [6, 8, 12, 2, 0]]\n"
          ],
          "name": "stdout"
        }
      ]
    },
    {
      "cell_type": "code",
      "metadata": {
        "id": "1oOZcV7jebk8",
        "colab_type": "code",
        "outputId": "a4f2b277-c720-4e4a-a38e-7791d7901d6a",
        "colab": {
          "base_uri": "https://localhost:8080/",
          "height": 121
        }
      },
      "source": [
        "N = [[2, 4, 2, 6, 6],\n",
        " [0, 0, 0, 0, 0],\n",
        " [0, 0, 0, 0, 0],\n",
        " [0, 0, 0, 0, 0],\n",
        " [0, 0, 0, 0, 0],\n",
        " [0, 0, 0, 0, 0]]\n",
        "my_Matrix.add(N)"
      ],
      "execution_count": 0,
      "outputs": [
        {
          "output_type": "execute_result",
          "data": {
            "text/plain": [
              "[[3, 6, 3, 9, 9],\n",
              " [0, 0, 0, 0, 0],\n",
              " [0, 0, 0, 0, 0],\n",
              " [0, 0, 0, 0, 0],\n",
              " [0, 0, 0, 0, 0],\n",
              " [0, 0, 0, 0, 0]]"
            ]
          },
          "metadata": {
            "tags": []
          },
          "execution_count": 363
        }
      ]
    },
    {
      "cell_type": "code",
      "metadata": {
        "id": "kwR_tZM0eZYh",
        "colab_type": "code",
        "outputId": "f63765ed-7fc9-4147-a2a4-be0af78cabb7",
        "colab": {
          "base_uri": "https://localhost:8080/",
          "height": 121
        }
      },
      "source": [
        "N = [[2, 4, 2, 6, 6],\n",
        " [0, 0, 0, 0, 0],\n",
        " [0, 0, 0, 0, 0],\n",
        " [0, 0, 0, 0, 0],\n",
        " [0, 0, 0, 0, 0],\n",
        " [0, 0, 0, 0, 0]]\n",
        "\n",
        "my_Matrix.sub(N)\n"
      ],
      "execution_count": 0,
      "outputs": [
        {
          "output_type": "execute_result",
          "data": {
            "text/plain": [
              "[[-1, -2, -1, -3, -3],\n",
              " [0, 0, 0, 0, 0],\n",
              " [0, 0, 0, 0, 0],\n",
              " [0, 0, 0, 0, 0],\n",
              " [0, 0, 0, 0, 0],\n",
              " [0, 0, 0, 0, 0]]"
            ]
          },
          "metadata": {
            "tags": []
          },
          "execution_count": 364
        }
      ]
    },
    {
      "cell_type": "code",
      "metadata": {
        "id": "vDsyBVyzoJPu",
        "colab_type": "code",
        "outputId": "50d64bec-6ee5-449b-9216-7218a7b9c599",
        "colab": {
          "base_uri": "https://localhost:8080/",
          "height": 322
        }
      },
      "source": [
        "N = [[2, 4, 2, 6, 6,8],\n",
        " [0, 0, 0, 0, 0,5],\n",
        " [0, 0, 0, 0, 0,7],\n",
        " [0, 0, 0, 0, 0,7],\n",
        " [0, 0, 0, 0, 0,6]]\n",
        "\n",
        "my_Matrix.mat_mult(N)"
      ],
      "execution_count": 0,
      "outputs": [
        {
          "output_type": "error",
          "ename": "IndexError",
          "evalue": "ignored",
          "traceback": [
            "\u001b[0;31m---------------------------------------------------------------------------\u001b[0m",
            "\u001b[0;31mIndexError\u001b[0m                                Traceback (most recent call last)",
            "\u001b[0;32m<ipython-input-365-c60504b9ef5a>\u001b[0m in \u001b[0;36m<module>\u001b[0;34m()\u001b[0m\n\u001b[1;32m      5\u001b[0m  [0, 0, 0, 0, 0,6]]\n\u001b[1;32m      6\u001b[0m \u001b[0;34m\u001b[0m\u001b[0m\n\u001b[0;32m----> 7\u001b[0;31m \u001b[0mmy_Matrix\u001b[0m\u001b[0;34m.\u001b[0m\u001b[0mmat_mult\u001b[0m\u001b[0;34m(\u001b[0m\u001b[0mN\u001b[0m\u001b[0;34m)\u001b[0m\u001b[0;34m\u001b[0m\u001b[0;34m\u001b[0m\u001b[0m\n\u001b[0m",
            "\u001b[0;32m<ipython-input-352-cd0cf15688e8>\u001b[0m in \u001b[0;36mmat_mult\u001b[0;34m(self, N)\u001b[0m\n\u001b[1;32m    112\u001b[0m         \u001b[0;32mwhile\u001b[0m \u001b[0;34m(\u001b[0m\u001b[0mj\u001b[0m \u001b[0;34m<\u001b[0m \u001b[0mcolumn\u001b[0m\u001b[0;34m)\u001b[0m\u001b[0;34m:\u001b[0m\u001b[0;34m\u001b[0m\u001b[0;34m\u001b[0m\u001b[0m\n\u001b[1;32m    113\u001b[0m           \u001b[0;32mwhile\u001b[0m \u001b[0;34m(\u001b[0m\u001b[0mk\u001b[0m \u001b[0;34m<\u001b[0m \u001b[0mrow\u001b[0m\u001b[0;34m)\u001b[0m\u001b[0;34m:\u001b[0m\u001b[0;34m\u001b[0m\u001b[0;34m\u001b[0m\u001b[0m\n\u001b[0;32m--> 114\u001b[0;31m             \u001b[0mself\u001b[0m\u001b[0;34m.\u001b[0m\u001b[0m__newmatmult\u001b[0m\u001b[0;34m[\u001b[0m\u001b[0mi\u001b[0m\u001b[0;34m]\u001b[0m\u001b[0;34m[\u001b[0m\u001b[0mj\u001b[0m\u001b[0;34m]\u001b[0m \u001b[0;34m+=\u001b[0m \u001b[0mself\u001b[0m\u001b[0;34m.\u001b[0m\u001b[0m__newmat\u001b[0m\u001b[0;34m[\u001b[0m\u001b[0mi\u001b[0m\u001b[0;34m]\u001b[0m\u001b[0;34m[\u001b[0m\u001b[0mk\u001b[0m\u001b[0;34m]\u001b[0m \u001b[0;34m*\u001b[0m \u001b[0mself\u001b[0m\u001b[0;34m.\u001b[0m\u001b[0m__newmat3\u001b[0m\u001b[0;34m[\u001b[0m\u001b[0mk\u001b[0m\u001b[0;34m]\u001b[0m\u001b[0;34m[\u001b[0m\u001b[0mj\u001b[0m\u001b[0;34m]\u001b[0m\u001b[0;34m\u001b[0m\u001b[0;34m\u001b[0m\u001b[0m\n\u001b[0m\u001b[1;32m    115\u001b[0m             \u001b[0mk\u001b[0m \u001b[0;34m=\u001b[0m \u001b[0mk\u001b[0m\u001b[0;34m+\u001b[0m\u001b[0;36m1\u001b[0m\u001b[0;34m\u001b[0m\u001b[0;34m\u001b[0m\u001b[0m\n\u001b[1;32m    116\u001b[0m           \u001b[0mj\u001b[0m \u001b[0;34m=\u001b[0m \u001b[0mj\u001b[0m \u001b[0;34m+\u001b[0m \u001b[0;36m1\u001b[0m\u001b[0;34m\u001b[0m\u001b[0;34m\u001b[0m\u001b[0m\n",
            "\u001b[0;31mIndexError\u001b[0m: list index out of range"
          ]
        }
      ]
    },
    {
      "cell_type": "code",
      "metadata": {
        "id": "SAyGIWdelJwV",
        "colab_type": "code",
        "outputId": "6cb77c97-39ea-4906-fec0-f0920705b607",
        "colab": {
          "base_uri": "https://localhost:8080/",
          "height": 121
        }
      },
      "source": [
        "N = [[2, 4, 2, 6, 6],\n",
        " [0, 0, 0, 0, 0],\n",
        " [0, 0, 0, 0, 0],\n",
        " [0, 0, 0, 0, 0],\n",
        " [0, 0, 0, 0, 0],\n",
        " [0, 0, 0, 0, 0]]\n",
        " \n",
        "my_Matrix.element_mult(N)"
      ],
      "execution_count": 0,
      "outputs": [
        {
          "output_type": "execute_result",
          "data": {
            "text/plain": [
              "[[2, 8, 2, 18, 18],\n",
              " [0, 0, 0, 0, 0],\n",
              " [0, 0, 0, 0, 0],\n",
              " [0, 0, 0, 0, 0],\n",
              " [0, 0, 0, 0, 0],\n",
              " [0, 0, 0, 0, 0]]"
            ]
          },
          "metadata": {
            "tags": []
          },
          "execution_count": 367
        }
      ]
    },
    {
      "cell_type": "code",
      "metadata": {
        "id": "H2At22Klpe4L",
        "colab_type": "code",
        "outputId": "2c3795f3-a12c-4854-f97b-7a434fb05cc7",
        "colab": {
          "base_uri": "https://localhost:8080/",
          "height": 35
        }
      },
      "source": [
        "N=[[1, 2, 1, 3, 3],\n",
        " [5, 3, 2, 6, 1],\n",
        " [2, 2, 2, 7, 6],\n",
        " [6, 7, 8, 7, 0],\n",
        " [7, 1, 4, 5, 6],\n",
        " [3, 4, 6, 1, 0]]\n",
        "\n",
        "my_Matrix.equals(N)"
      ],
      "execution_count": 0,
      "outputs": [
        {
          "output_type": "execute_result",
          "data": {
            "text/plain": [
              "True"
            ]
          },
          "metadata": {
            "tags": []
          },
          "execution_count": 368
        }
      ]
    },
    {
      "cell_type": "code",
      "metadata": {
        "id": "uICCCr4qVsHm",
        "colab_type": "code",
        "outputId": "d2bbe52b-e93b-4800-f612-f432ee48bb3d",
        "colab": {
          "base_uri": "https://localhost:8080/",
          "height": 87
        }
      },
      "source": [
        "A = [[1,2],[4,5]]\n",
        "\n",
        "my_Matrix.matrixproperty(A)"
      ],
      "execution_count": 0,
      "outputs": [
        {
          "output_type": "stream",
          "text": [
            "Matrix A:\n",
            "[[1, 2], [4, 5]]\n",
            "Matrix A*I:\n",
            "[[1, 2], [4, 5]]\n"
          ],
          "name": "stdout"
        }
      ]
    },
    {
      "cell_type": "code",
      "metadata": {
        "id": "AfwnY_1cMAKg",
        "colab_type": "code",
        "colab": {}
      },
      "source": [
        "New= [[1,2,3],[2,3,4]]\n",
        "__add(New)"
      ],
      "execution_count": 0,
      "outputs": []
    },
    {
      "cell_type": "code",
      "metadata": {
        "id": "70sxrwcKMAWk",
        "colab_type": "code",
        "colab": {}
      },
      "source": [
        "New= [[1,2,3],[2,3,4]]\n",
        "__sub(New)"
      ],
      "execution_count": 0,
      "outputs": []
    },
    {
      "cell_type": "code",
      "metadata": {
        "id": "Lr_QbgoTMAhZ",
        "colab_type": "code",
        "colab": {}
      },
      "source": [
        "New= [[1,2,3],[2,3,4]]\n",
        "__equal(New)"
      ],
      "execution_count": 0,
      "outputs": []
    },
    {
      "cell_type": "code",
      "metadata": {
        "id": "IPf88ujud4NU",
        "colab_type": "code",
        "colab": {}
      },
      "source": [
        "#Problem Number 3\n",
        "import random\n",
        "def constant(n,m,c):\n",
        "  mat = [ [random.uniform(c,c+1 ) for i in range(n)] for j in range(m)]\n",
        "  return mat\n",
        "\n",
        "def zeros(n,m):\n",
        "  mat = [ [random.random() for i in range(n)] for j in range(m)]\n",
        "  return mat\n",
        "\n",
        "def ones(n,m):\n",
        "  mat = [ [random.uniform(1,2) for i in range(n)] for j in range(m)]\n",
        "  return mat\n",
        "\n",
        "\n",
        "def eye(n):\n",
        "    matrix = list() \n",
        "    for x in range(0, n): \n",
        "      row=list()\n",
        "      for y in range(0, n): \n",
        "  \n",
        "            if (x == y): \n",
        "                row.append(1) \n",
        "            else: \n",
        "                row.append(0) \n",
        "      matrix.append(row)\n",
        "    return matrix \n",
        "\n",
        "\n",
        "  \n",
        "\n",
        "\n",
        "\n"
      ],
      "execution_count": 0,
      "outputs": []
    },
    {
      "cell_type": "code",
      "metadata": {
        "id": "UY2lw5BWehYp",
        "colab_type": "code",
        "outputId": "8572409d-524e-470a-daa7-925fa66c0b38",
        "colab": {
          "base_uri": "https://localhost:8080/",
          "height": 745
        }
      },
      "source": [
        "constant(6,7,2)"
      ],
      "execution_count": 0,
      "outputs": [
        {
          "output_type": "execute_result",
          "data": {
            "text/plain": [
              "[[2.334105998396235,\n",
              "  2.4005047556583023,\n",
              "  2.652803561176326,\n",
              "  2.566612533416995,\n",
              "  2.437992486325249,\n",
              "  2.8377258431314063],\n",
              " [2.293688702920965,\n",
              "  2.0038372982184125,\n",
              "  2.942983238739372,\n",
              "  2.6732833392823765,\n",
              "  2.5384278653825327,\n",
              "  2.3479713553512394],\n",
              " [2.4746256864003544,\n",
              "  2.6289422907393636,\n",
              "  2.773654474777018,\n",
              "  2.3329637122933233,\n",
              "  2.3647203238402827,\n",
              "  2.5027532683246565],\n",
              " [2.012844012128711,\n",
              "  2.2055427065927136,\n",
              "  2.108029201119361,\n",
              "  2.738717405819502,\n",
              "  2.7896581754662897,\n",
              "  2.660657569210076],\n",
              " [2.6351719815220402,\n",
              "  2.7537886891965715,\n",
              "  2.6344373990203422,\n",
              "  2.3444694795558876,\n",
              "  2.9060984485373487,\n",
              "  2.294431302404388],\n",
              " [2.4312119930917016,\n",
              "  2.103742358964971,\n",
              "  2.175821668443426,\n",
              "  2.6581180963863056,\n",
              "  2.8486723366866955,\n",
              "  2.984879142372789],\n",
              " [2.986040702688548,\n",
              "  2.437527605494509,\n",
              "  2.6175669406405673,\n",
              "  2.7913053061170663,\n",
              "  2.130732337606925,\n",
              "  2.109418372116795]]"
            ]
          },
          "metadata": {
            "tags": []
          },
          "execution_count": 223
        }
      ]
    },
    {
      "cell_type": "code",
      "metadata": {
        "id": "Dg_fq2AbehlZ",
        "colab_type": "code",
        "outputId": "267c5e96-8a50-45ea-c62d-2168bcfec178",
        "colab": {
          "base_uri": "https://localhost:8080/",
          "height": 745
        }
      },
      "source": [
        "zeros(6,7)"
      ],
      "execution_count": 0,
      "outputs": [
        {
          "output_type": "execute_result",
          "data": {
            "text/plain": [
              "[[0.4332962143215713,\n",
              "  0.2609913875134733,\n",
              "  0.1514131815613683,\n",
              "  0.3926924726429929,\n",
              "  0.07155754834097994,\n",
              "  0.4816410450349352],\n",
              " [0.04498186581780439,\n",
              "  0.08239424438284415,\n",
              "  0.645665935194426,\n",
              "  0.7643598755099866,\n",
              "  0.700058196661165,\n",
              "  0.0560884087471597],\n",
              " [0.49698821907670343,\n",
              "  0.4711852690688674,\n",
              "  0.6113712256732003,\n",
              "  0.48277955256302474,\n",
              "  0.09786566151579135,\n",
              "  0.34924581605917704],\n",
              " [0.24914353936148304,\n",
              "  0.18500244112704967,\n",
              "  0.5422606273971723,\n",
              "  0.022949711968929587,\n",
              "  0.2511493901428824,\n",
              "  0.6419815873634125],\n",
              " [0.07891471242201353,\n",
              "  0.6776796684244035,\n",
              "  0.5784316135486198,\n",
              "  0.4233323222012928,\n",
              "  0.8185477985619656,\n",
              "  0.11140113907483973],\n",
              " [0.7437239276237899,\n",
              "  0.7714654990058736,\n",
              "  0.20694910015999968,\n",
              "  0.6086191327209823,\n",
              "  0.9558579615719582,\n",
              "  0.945027167767189],\n",
              " [0.9056764571354926,\n",
              "  0.772661194789666,\n",
              "  0.28999394992886185,\n",
              "  0.7318226500280347,\n",
              "  0.6349399270129982,\n",
              "  0.415311260942697]]"
            ]
          },
          "metadata": {
            "tags": []
          },
          "execution_count": 224
        }
      ]
    },
    {
      "cell_type": "code",
      "metadata": {
        "id": "EuCFy0Npeh1Q",
        "colab_type": "code",
        "outputId": "373cdac5-b0f9-4a16-a200-e0261d6de811",
        "colab": {
          "base_uri": "https://localhost:8080/",
          "height": 745
        }
      },
      "source": [
        "ones(6,7)"
      ],
      "execution_count": 0,
      "outputs": [
        {
          "output_type": "execute_result",
          "data": {
            "text/plain": [
              "[[1.7259229075875901,\n",
              "  1.9943284925371136,\n",
              "  1.9601342743659078,\n",
              "  1.8401505321116154,\n",
              "  1.6163005531245962,\n",
              "  1.405826284450753],\n",
              " [1.5831373487993572,\n",
              "  1.461738115816209,\n",
              "  1.429812303962116,\n",
              "  1.7339633042040488,\n",
              "  1.347292058563565,\n",
              "  1.1005593239142963],\n",
              " [1.2812414225860604,\n",
              "  1.730983146267856,\n",
              "  1.0598968213322306,\n",
              "  1.285535463960242,\n",
              "  1.8173715547431533,\n",
              "  1.998271760911412],\n",
              " [1.9819393216438481,\n",
              "  1.7875421981117283,\n",
              "  1.6849850745236754,\n",
              "  1.1283294174116651,\n",
              "  1.1129075237775143,\n",
              "  1.2915358381705064],\n",
              " [1.3114463567297172,\n",
              "  1.0057835524466308,\n",
              "  1.7027032423425204,\n",
              "  1.8726152375996832,\n",
              "  1.0554906963005304,\n",
              "  1.0098167396295414],\n",
              " [1.618878082940784,\n",
              "  1.6660509134648187,\n",
              "  1.7574351308625595,\n",
              "  1.772138675991288,\n",
              "  1.1723619036562651,\n",
              "  1.3014003665408376],\n",
              " [1.9843792018267186,\n",
              "  1.4934744161422362,\n",
              "  1.4210452383460503,\n",
              "  1.8785178282885964,\n",
              "  1.5425393160989362,\n",
              "  1.5577563782652897]]"
            ]
          },
          "metadata": {
            "tags": []
          },
          "execution_count": 225
        }
      ]
    },
    {
      "cell_type": "code",
      "metadata": {
        "id": "CnZlwo0oeiEq",
        "colab_type": "code",
        "outputId": "8fa423a5-b6c4-4246-ba83-dd9e72bec663",
        "colab": {
          "base_uri": "https://localhost:8080/",
          "height": 104
        }
      },
      "source": [
        "eye(5)"
      ],
      "execution_count": 0,
      "outputs": [
        {
          "output_type": "execute_result",
          "data": {
            "text/plain": [
              "[[1, 0, 0, 0, 0],\n",
              " [0, 1, 0, 0, 0],\n",
              " [0, 0, 1, 0, 0],\n",
              " [0, 0, 0, 1, 0],\n",
              " [0, 0, 0, 0, 1]]"
            ]
          },
          "metadata": {
            "tags": []
          },
          "execution_count": 226
        }
      ]
    }
  ]
}