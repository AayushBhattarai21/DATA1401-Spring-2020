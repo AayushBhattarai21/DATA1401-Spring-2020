{
  "nbformat": 4,
  "nbformat_minor": 0,
  "metadata": {
    "kernelspec": {
      "display_name": "Python 3",
      "language": "python",
      "name": "python3"
    },
    "language_info": {
      "codemirror_mode": {
        "name": "ipython",
        "version": 3
      },
      "file_extension": ".py",
      "mimetype": "text/x-python",
      "name": "python",
      "nbconvert_exporter": "python",
      "pygments_lexer": "ipython3",
      "version": "3.8.1"
    },
    "colab": {
      "name": "Copy of Lab-5.ipynb",
      "provenance": []
    }
  },
  "cells": [
    {
      "cell_type": "markdown",
      "metadata": {
        "id": "yuxgl2z6HGPu",
        "colab_type": "text"
      },
      "source": [
        "# Lab 5- Object Oriented Programming\n",
        "\n",
        "[![Open In Colab](https://colab.research.google.com/assets/colab-badge.svg)](https://colab.research.google.com/github//afarbin/DATA1401-Spring-2020/blob/master/Labs/Lab-5/Lab-5.ipynb)\n",
        "\n",
        "For all of the exercises below, make sure you provide tests of your solutions.\n"
      ]
    },
    {
      "cell_type": "markdown",
      "metadata": {
        "id": "jm7RNbtXHGPv",
        "colab_type": "text"
      },
      "source": [
        "1. Write a \"counter\" class that can be incremented up to a specified maximum value, will print an error if an attempt is made to increment beyond that value, and allows reseting the counter. "
      ]
    },
    {
      "cell_type": "code",
      "metadata": {
        "id": "U7uFUGEMHGPw",
        "colab_type": "code",
        "colab": {}
      },
      "source": [
        "class counter:\n",
        "    def __init__(self,max_val):\n",
        "        self.max_val=max_val\n",
        "        self.cur_val=1\n",
        "        \n",
        "    def increment(self):\n",
        "        if self.cur_val>self.max_val:\n",
        "            print(\"Max value reached.\")\n",
        "        else:\n",
        "            self.cur_val+=1\n",
        "            \n",
        "    def reset(self):\n",
        "        self.cur_val=1\n",
        "        "
      ],
      "execution_count": 0,
      "outputs": []
    },
    {
      "cell_type": "code",
      "metadata": {
        "id": "djg9s56XHGP0",
        "colab_type": "code",
        "colab": {}
      },
      "source": [
        "my_counter=counter(3)"
      ],
      "execution_count": 0,
      "outputs": []
    },
    {
      "cell_type": "code",
      "metadata": {
        "id": "rX5T9BdyHGP3",
        "colab_type": "code",
        "outputId": "fe3d603f-5b93-4cef-c8d3-d209af800354",
        "colab": {
          "base_uri": "https://localhost:8080/",
          "height": 52
        }
      },
      "source": [
        "my_counter.increment()\n",
        "my_counter.increment()\n",
        "my_counter.increment()\n",
        "my_counter.increment()\n",
        "my_counter.increment()\n"
      ],
      "execution_count": 0,
      "outputs": [
        {
          "output_type": "stream",
          "text": [
            "Max value reached.\n",
            "Max value reached.\n"
          ],
          "name": "stdout"
        }
      ]
    },
    {
      "cell_type": "code",
      "metadata": {
        "id": "vTmpXwB7HGP_",
        "colab_type": "code",
        "colab": {}
      },
      "source": [
        "my_counter.cur_val=100"
      ],
      "execution_count": 0,
      "outputs": []
    },
    {
      "cell_type": "markdown",
      "metadata": {
        "id": "yjPk1SJJHGQC",
        "colab_type": "text"
      },
      "source": [
        "2. Copy and paste your solution to question 1 and modify it so that all the data held by the counter is private. Implement functions to check the value of the counter, check the maximum value, and check if the counter is at the maximum."
      ]
    },
    {
      "cell_type": "code",
      "metadata": {
        "id": "ZEOlePuwHGQC",
        "colab_type": "code",
        "colab": {}
      },
      "source": [
        "class counter:\n",
        "    def __init__(self,max_val):\n",
        "        self.__max_val=max_val\n",
        "        self.__cur_val=1\n",
        "        \n",
        "    def increment(self):\n",
        "        if self.__cur_val>self.__max_val:\n",
        "            print(\"Max value reached.\")\n",
        "        else:\n",
        "            self.__cur_val+=1\n",
        "            \n",
        "    def reset(self):\n",
        "        self.__cur_val=1\n",
        "        \n",
        "    def cur_val(self):\n",
        "        return self.__cur_val\n",
        "\n",
        "    def max_val(self):\n",
        "        return self.__max_val\n",
        "\n"
      ],
      "execution_count": 0,
      "outputs": []
    },
    {
      "cell_type": "code",
      "metadata": {
        "id": "sMiRpsXtHGQF",
        "colab_type": "code",
        "colab": {}
      },
      "source": [
        "my_counter=counter(3)"
      ],
      "execution_count": 0,
      "outputs": []
    },
    {
      "cell_type": "code",
      "metadata": {
        "id": "71SFQO1xHGQI",
        "colab_type": "code",
        "outputId": "6c24e049-a9f3-443f-cc05-bf8d8fda4e58",
        "colab": {
          "base_uri": "https://localhost:8080/",
          "height": 35
        }
      },
      "source": [
        "my_counter.cur_val()"
      ],
      "execution_count": 0,
      "outputs": [
        {
          "output_type": "execute_result",
          "data": {
            "text/plain": [
              "1"
            ]
          },
          "metadata": {
            "tags": []
          },
          "execution_count": 33
        }
      ]
    },
    {
      "cell_type": "markdown",
      "metadata": {
        "id": "ea7RsIB6HGQK",
        "colab_type": "text"
      },
      "source": [
        "3. Implement a class to represent a rectangle, holding the length, width, and $x$ and $y$ coordinates of a corner of the object. Implement functions that compute the area and parameter of the rectangle. Make all data members private and privide accessors to retrieve values of data members. "
      ]
    },
    {
      "cell_type": "code",
      "metadata": {
        "id": "-oEXe3tBHGQL",
        "colab_type": "code",
        "colab": {}
      },
      "source": [
        "class rectangle:\n",
        "    def __init__(self,width,length,x=0,y=0):\n",
        "        self.__width=width\n",
        "        self.__length=length\n",
        "        self.__x=x\n",
        "        self.__y=y\n",
        "        \n",
        "    def area(self):\n",
        "        return self.__width*self.__length\n",
        "    \n",
        "    def perimeter(self):\n",
        "        return 2*(self.__width+self.__length)\n",
        "    \n",
        "    def x(self):\n",
        "        return self.__x\n",
        "\n",
        "        "
      ],
      "execution_count": 0,
      "outputs": []
    },
    {
      "cell_type": "code",
      "metadata": {
        "id": "NpbsMxaGTeOh",
        "colab_type": "code",
        "colab": {}
      },
      "source": [
        "my_rectangle = rectangle(2,4,0,0)\n"
      ],
      "execution_count": 0,
      "outputs": []
    },
    {
      "cell_type": "code",
      "metadata": {
        "id": "iDf4ytA-To4j",
        "colab_type": "code",
        "outputId": "1e3afe38-5af8-40d7-c79d-43b844e7284c",
        "colab": {
          "base_uri": "https://localhost:8080/",
          "height": 35
        }
      },
      "source": [
        "my_rectangle.area()"
      ],
      "execution_count": 0,
      "outputs": [
        {
          "output_type": "execute_result",
          "data": {
            "text/plain": [
              "8"
            ]
          },
          "metadata": {
            "tags": []
          },
          "execution_count": 73
        }
      ]
    },
    {
      "cell_type": "code",
      "metadata": {
        "id": "FgJ40nLJT-dR",
        "colab_type": "code",
        "outputId": "4aae4a67-3f3d-4959-8df3-12dfaccf8a03",
        "colab": {
          "base_uri": "https://localhost:8080/",
          "height": 35
        }
      },
      "source": [
        "my_rectangle.perimeter()"
      ],
      "execution_count": 0,
      "outputs": [
        {
          "output_type": "execute_result",
          "data": {
            "text/plain": [
              "12"
            ]
          },
          "metadata": {
            "tags": []
          },
          "execution_count": 74
        }
      ]
    },
    {
      "cell_type": "markdown",
      "metadata": {
        "id": "cLQJ2RWnHGQM",
        "colab_type": "text"
      },
      "source": [
        "4. Implement a class to represent a circle, holding the radius and $x$ and $y$ coordinates of center of the object. Implement functions that compute the area and parameter of the rectangle. Make all data members private and privide accessors to retrieve values of data members. "
      ]
    },
    {
      "cell_type": "code",
      "metadata": {
        "id": "LuRo1MMQP_64",
        "colab_type": "code",
        "colab": {}
      },
      "source": [
        "class Circle:\n",
        "  def __init__(self, radius,x=0,y=0):\n",
        "        self.__radius = radius\n",
        "        self.__x = x\n",
        "        self.__y = y\n",
        " \n",
        "  def area(self):\n",
        "        return self.__radius **2*3.14\n",
        " \n",
        "  def perimeter(self):\n",
        "        return 2 * 3.14 * self.__radius\n",
        "\n",
        "  "
      ],
      "execution_count": 0,
      "outputs": []
    },
    {
      "cell_type": "code",
      "metadata": {
        "id": "h5dcbaTOQG9P",
        "colab_type": "code",
        "colab": {}
      },
      "source": [
        "my_Circle = Circle(8)"
      ],
      "execution_count": 0,
      "outputs": []
    },
    {
      "cell_type": "code",
      "metadata": {
        "id": "XwLWE7kuRh2-",
        "colab_type": "code",
        "outputId": "ded5d1ee-d094-428d-886e-9e1a9fb5cf61",
        "colab": {
          "base_uri": "https://localhost:8080/",
          "height": 35
        }
      },
      "source": [
        "my_Circle.perimeter()\n"
      ],
      "execution_count": 0,
      "outputs": [
        {
          "output_type": "execute_result",
          "data": {
            "text/plain": [
              "50.24"
            ]
          },
          "metadata": {
            "tags": []
          },
          "execution_count": 65
        }
      ]
    },
    {
      "cell_type": "code",
      "metadata": {
        "id": "XyaB142lS9HW",
        "colab_type": "code",
        "outputId": "296d4731-bb59-412a-cd14-2bb49907739d",
        "colab": {
          "base_uri": "https://localhost:8080/",
          "height": 35
        }
      },
      "source": [
        "my_Circle.area()\n"
      ],
      "execution_count": 0,
      "outputs": [
        {
          "output_type": "execute_result",
          "data": {
            "text/plain": [
              "200.96"
            ]
          },
          "metadata": {
            "tags": []
          },
          "execution_count": 66
        }
      ]
    },
    {
      "cell_type": "markdown",
      "metadata": {
        "id": "trirfbCGHGQN",
        "colab_type": "text"
      },
      "source": [
        "5. Implement a common base class for the classes implemented in 3 and 4 above which implements all common methods as dummy functions. Re-implement those classes to inherit from the base class and overload the functions accordingly. "
      ]
    },
    {
      "cell_type": "code",
      "metadata": {
        "id": "EWAGYvfJwPF-",
        "colab_type": "code",
        "colab": {}
      },
      "source": [
        "class Geometry:\n",
        "  def __init__(self, radius,length,width, cx=0,cy=0,rx=0,ry=0):\n",
        "        self.__radius = radius\n",
        "        self.__length = length\n",
        "        self.__width = width\n",
        "        self.__radius = radius\n",
        "        self.__cx = cx\n",
        "        self.__cy = cy \n",
        "        self.__rx = rx \n",
        "        self.__ry = ry \n",
        " \n",
        "  def areaCircle(self):\n",
        "        return self.__radius **2*3.14\n",
        " \n",
        "  def perimeterCircle(self):\n",
        "        return 2 * 3.14 * self.__radius\n",
        "\n",
        "  def areaRec(self):\n",
        "        return self.__width*self.__length\n",
        "  \n",
        "  def perimeterRec(self):\n",
        "        return 2*self.__width+2*self.__length\n",
        "\n",
        "\n"
      ],
      "execution_count": 0,
      "outputs": []
    },
    {
      "cell_type": "code",
      "metadata": {
        "id": "pHyg9vlbwPXR",
        "colab_type": "code",
        "colab": {}
      },
      "source": [
        "my_Geometry = Geometry(2,5,6)"
      ],
      "execution_count": 0,
      "outputs": []
    },
    {
      "cell_type": "code",
      "metadata": {
        "id": "M8MLLfK1zQ5y",
        "colab_type": "code",
        "outputId": "30ba8253-c9f2-4da5-f4be-f1e585579f2f",
        "colab": {
          "base_uri": "https://localhost:8080/",
          "height": 35
        }
      },
      "source": [
        "my_Geometry.areaCircle()\n"
      ],
      "execution_count": 0,
      "outputs": [
        {
          "output_type": "execute_result",
          "data": {
            "text/plain": [
              "12.56"
            ]
          },
          "metadata": {
            "tags": []
          },
          "execution_count": 105
        }
      ]
    },
    {
      "cell_type": "code",
      "metadata": {
        "id": "JBus_khbzkGB",
        "colab_type": "code",
        "outputId": "cd5e4cfd-7472-4d33-8e17-9e22b1c9a8ba",
        "colab": {
          "base_uri": "https://localhost:8080/",
          "height": 35
        }
      },
      "source": [
        "my_Geometry.perimeterCircle()"
      ],
      "execution_count": 0,
      "outputs": [
        {
          "output_type": "execute_result",
          "data": {
            "text/plain": [
              "12.56"
            ]
          },
          "metadata": {
            "tags": []
          },
          "execution_count": 106
        }
      ]
    },
    {
      "cell_type": "code",
      "metadata": {
        "id": "_1anHbqrzkUZ",
        "colab_type": "code",
        "outputId": "a82bd83b-705a-4c9b-f6f4-9eaec98f4132",
        "colab": {
          "base_uri": "https://localhost:8080/",
          "height": 35
        }
      },
      "source": [
        "my_Geometry.areaRec()"
      ],
      "execution_count": 0,
      "outputs": [
        {
          "output_type": "execute_result",
          "data": {
            "text/plain": [
              "30"
            ]
          },
          "metadata": {
            "tags": []
          },
          "execution_count": 107
        }
      ]
    },
    {
      "cell_type": "code",
      "metadata": {
        "id": "qV5qVat8zrmf",
        "colab_type": "code",
        "outputId": "2fbbf48f-661c-4ede-b52a-69bbaf5f3f84",
        "colab": {
          "base_uri": "https://localhost:8080/",
          "height": 35
        }
      },
      "source": [
        "my_Geometry.perimeterRec()"
      ],
      "execution_count": 0,
      "outputs": [
        {
          "output_type": "execute_result",
          "data": {
            "text/plain": [
              "22"
            ]
          },
          "metadata": {
            "tags": []
          },
          "execution_count": 108
        }
      ]
    },
    {
      "cell_type": "markdown",
      "metadata": {
        "id": "66drtACcHGQN",
        "colab_type": "text"
      },
      "source": [
        "6. Implement an analogous triangle class."
      ]
    },
    {
      "cell_type": "code",
      "metadata": {
        "id": "BNygq5zli5he",
        "colab_type": "code",
        "colab": {}
      },
      "source": [
        "class Triangle:\n",
        "  def __init__(self, sideA, sideB, sideC):\n",
        "    self.__sideA = sideA\n",
        "    self.__sideB = sideB\n",
        "    self.__sideC = sideC\n",
        " \n",
        "  def area(self):\n",
        "    semiP=(self.__sideA+self.__sideB+self.__sideC)/2\n",
        "    return (semiP*(semiP-self.__sideA)*(semiP-self.__sideB)*(semiP-self.__sideC))**0.5\n",
        "\n",
        "  def perimeter(self):\n",
        "    return (self.__sideA + self.__sideB + self.__sideC)\n"
      ],
      "execution_count": 0,
      "outputs": []
    },
    {
      "cell_type": "code",
      "metadata": {
        "id": "nOSBy6QNi51z",
        "colab_type": "code",
        "colab": {}
      },
      "source": [
        "my_Triangle=Triangle(2,3,4)"
      ],
      "execution_count": 0,
      "outputs": []
    },
    {
      "cell_type": "code",
      "metadata": {
        "id": "xYh4WUHZjTpn",
        "colab_type": "code",
        "outputId": "580fc6d6-f3de-41bb-ff33-abae0ae9d459",
        "colab": {
          "base_uri": "https://localhost:8080/",
          "height": 35
        }
      },
      "source": [
        "my_Triangle.perimeter()"
      ],
      "execution_count": 0,
      "outputs": [
        {
          "output_type": "execute_result",
          "data": {
            "text/plain": [
              "9"
            ]
          },
          "metadata": {
            "tags": []
          },
          "execution_count": 90
        }
      ]
    },
    {
      "cell_type": "code",
      "metadata": {
        "id": "0HCosfVsjtB-",
        "colab_type": "code",
        "outputId": "73ced5d0-1ab5-44ab-b41d-6bfce218d349",
        "colab": {
          "base_uri": "https://localhost:8080/",
          "height": 35
        }
      },
      "source": [
        "my_Triangle.area()"
      ],
      "execution_count": 0,
      "outputs": [
        {
          "output_type": "execute_result",
          "data": {
            "text/plain": [
              "2.9047375096555625"
            ]
          },
          "metadata": {
            "tags": []
          },
          "execution_count": 91
        }
      ]
    },
    {
      "cell_type": "markdown",
      "metadata": {
        "id": "9aLYvLY8HGQO",
        "colab_type": "text"
      },
      "source": [
        "7. Add a function to the object classes that test if a given set of $x$ and $y$ coordinates are inside of the object."
      ]
    },
    {
      "cell_type": "code",
      "metadata": {
        "id": "wL9eF2c32A5L",
        "colab_type": "code",
        "colab": {}
      },
      "source": [
        "#for circle and rectangle\n",
        "def isInside (radius,length,width,cx,cy,rx,ry,x,y):\n",
        "    distance = (rx-x)**2+(ry-y)**2\n",
        "    if (((x-cx)**2+(y-cy)**2) <= radius**2):\n",
        "      print(\"Inside Circle\")\n",
        "\n",
        "    else:\n",
        "      print(\"Not inside circle\")\n",
        "\n",
        "    if (distance <= length and distance <= width and distance <= (length**2+width**2)**0.5):\n",
        "      print(\"Inside Rectangle\")\n",
        "    \n",
        "    else:\n",
        "      print(\"Not inside rectangle\")\n",
        "\n",
        "#for triangle\n",
        "def IsInsideT(x1,y1,x2,y2,x3,y3,x,y):\n",
        "    sideA = (x1-x2)**2+(y1-y2)**2\n",
        "    sideB = (x2-x3)**2+(y2-y3)**2\n",
        "    sideC = (x1-x3)**2+(y1-y3)**2\n",
        "\n",
        "    distance = (x1-x)**2+(y1-y)**2\n",
        "\n",
        "    if (distance < sideA and distance < sideB and distance < sideC):\n",
        "      print(\"Inside Triangle\")\n",
        "\n",
        "    else:\n",
        "      print(\"Not inside Triangle\")  "
      ],
      "execution_count": 0,
      "outputs": []
    },
    {
      "cell_type": "code",
      "metadata": {
        "id": "s1vp-Y8mcHRE",
        "colab_type": "code",
        "outputId": "fcd88d56-b8c1-4d7d-fb47-4b9e444167af",
        "colab": {
          "base_uri": "https://localhost:8080/",
          "height": 52
        }
      },
      "source": [
        "isInside(10,4,7,0,0,0,0,2,2)"
      ],
      "execution_count": 3,
      "outputs": [
        {
          "output_type": "stream",
          "text": [
            "Inside Circle\n",
            "Not inside rectangle\n"
          ],
          "name": "stdout"
        }
      ]
    },
    {
      "cell_type": "code",
      "metadata": {
        "id": "hZpWK43ACkVX",
        "colab_type": "code",
        "colab": {
          "base_uri": "https://localhost:8080/",
          "height": 35
        },
        "outputId": "4820ddbe-a157-42bd-f730-dec54feec123"
      },
      "source": [
        "IsInsideT(1,3,3,4,5,6,0,0)"
      ],
      "execution_count": 4,
      "outputs": [
        {
          "output_type": "stream",
          "text": [
            "Not inside Triangle\n"
          ],
          "name": "stdout"
        }
      ]
    },
    {
      "cell_type": "markdown",
      "metadata": {
        "id": "qWSdgAgfHGQO",
        "colab_type": "text"
      },
      "source": [
        "8. Add a function to the object classes that return a list of up to 16 pairs of  $x$ and $y$ points on the parameter of the object.\n",
        "\n"
      ]
    },
    {
      "cell_type": "code",
      "metadata": {
        "id": "BRAXqsBBdBTP",
        "colab_type": "code",
        "colab": {}
      },
      "source": [
        "#object is not defined so I did it for a circle.\n",
        "def CircleP(radius,xc,yc):\n",
        "    \n",
        "    for i in range(22):\n",
        "      x = xc + i\n",
        "      y = yc + i\n",
        "\n",
        "      distance = ((x-xc)**2+(y-yc)**2)**0.5\n",
        "\n",
        "      if distance<=radius:\n",
        "\n",
        "        print(str(x)+ \",\" + str(y))"
      ],
      "execution_count": 0,
      "outputs": []
    },
    {
      "cell_type": "code",
      "metadata": {
        "id": "7zRUDZzZFk3q",
        "colab_type": "code",
        "colab": {
          "base_uri": "https://localhost:8080/",
          "height": 243
        },
        "outputId": "2b979075-4f90-42f0-b4bf-b8e8b2f084ff"
      },
      "source": [
        "CircleP(18,0,0)"
      ],
      "execution_count": 46,
      "outputs": [
        {
          "output_type": "stream",
          "text": [
            "0,0\n",
            "1,1\n",
            "2,2\n",
            "3,3\n",
            "4,4\n",
            "5,5\n",
            "6,6\n",
            "7,7\n",
            "8,8\n",
            "9,9\n",
            "10,10\n",
            "11,11\n",
            "12,12\n"
          ],
          "name": "stdout"
        }
      ]
    },
    {
      "cell_type": "markdown",
      "metadata": {
        "id": "hglr07LuHGQP",
        "colab_type": "text"
      },
      "source": [
        "9. Add a function in the base class of the object classes that returns true/false testing that the object overlaps with another object."
      ]
    },
    {
      "cell_type": "code",
      "metadata": {
        "id": "q9SRXg5MIqzk",
        "colab_type": "code",
        "colab": {}
      },
      "source": [
        "def Triangle(x1,y1,x2,y2,x3,y3,x11,y11,x22,y22,x33,y33):\n",
        "  if ((x1 == x11) and (y1 == y11) and (x2 == x22) and (y2 == y22) and (x3 == x33) and (y3 == y33)):\n",
        "    print(\"Triangle overlaps\")\n",
        "\n",
        "  else:\n",
        "    print(\"Triangle doesn't overlap\")\n",
        "\n",
        "def Circle(x,y,x1,y1):\n",
        "  if ((x == x1) and (y == y1)):\n",
        "    print(\"Circle overlaps\")\n",
        "\n",
        "  else:\n",
        "    print(\"Circle doesn't overlap\")\n",
        "def Rectangle(x1,y1,x2,y2,x3,y3,x4,y4,x11,y11,x22,y22,x33,y33,x44,y44):\n",
        "  if ((x1 == x11) and (y1 == y11) and (x2 == x22) and (y2 == y22) and (x3 == x33) and (y3 == y33) and (x4 == x44) and (y4 == y44)):\n",
        "\n",
        "    print(\"Rectangle overlaps\")\n",
        "\n",
        "  else:\n",
        "    print(\"Rectangle doesn't overlap\")"
      ],
      "execution_count": 0,
      "outputs": []
    },
    {
      "cell_type": "code",
      "metadata": {
        "id": "q4Plm0acRghy",
        "colab_type": "code",
        "colab": {
          "base_uri": "https://localhost:8080/",
          "height": 35
        },
        "outputId": "2f857d5a-9f48-44a5-c26a-6669982068de"
      },
      "source": [
        "Triangle(5,4,6,3,2,3,6,7,8,9,6,4)"
      ],
      "execution_count": 48,
      "outputs": [
        {
          "output_type": "stream",
          "text": [
            "Triangle doesn't overlap\n"
          ],
          "name": "stdout"
        }
      ]
    },
    {
      "cell_type": "code",
      "metadata": {
        "id": "lsNlBMxTRsNC",
        "colab_type": "code",
        "colab": {
          "base_uri": "https://localhost:8080/",
          "height": 35
        },
        "outputId": "65f1f17a-d00e-440d-8b96-b5588b817ff7"
      },
      "source": [
        "Rectangle(1,3,5,6,8,4,3,5,6,5,7,8,4,6,7,8)"
      ],
      "execution_count": 49,
      "outputs": [
        {
          "output_type": "stream",
          "text": [
            "Recntangle doesn't overlap\n"
          ],
          "name": "stdout"
        }
      ]
    },
    {
      "cell_type": "code",
      "metadata": {
        "id": "b6tfFhfaR6ir",
        "colab_type": "code",
        "colab": {
          "base_uri": "https://localhost:8080/",
          "height": 35
        },
        "outputId": "c431f27b-ced3-46b2-d430-1c139a2b4e33"
      },
      "source": [
        "Circle(5,6,4,5)"
      ],
      "execution_count": 51,
      "outputs": [
        {
          "output_type": "stream",
          "text": [
            "Circle doesn't overlap\n"
          ],
          "name": "stdout"
        }
      ]
    }
  ]
}